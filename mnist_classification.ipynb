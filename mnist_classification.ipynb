{
 "cells": [
  {
   "cell_type": "code",
   "execution_count": 1,
   "id": "acdaa78e",
   "metadata": {},
   "outputs": [],
   "source": [
    "import numpy as np\n",
    "import layers\n",
    "import activations\n",
    "import nn\n",
    "import losses\n",
    "import optimizers\n",
    "import tensorflow"
   ]
  },
  {
   "cell_type": "markdown",
   "id": "14d77d3b-1e59-401a-ade3-7fda36fffc27",
   "metadata": {},
   "source": [
    "# Problem 1"
   ]
  },
  {
   "cell_type": "code",
   "execution_count": 12,
   "id": "30347c81-2c40-42ba-8b53-75ef3061cf1a",
   "metadata": {},
   "outputs": [],
   "source": [
    "def func(x):\n",
    "    if x <= 1:\n",
    "        return 3\n",
    "    if 1 < x <= 2:\n",
    "        return 4-x\n",
    "    if 2 < x <= 3:\n",
    "        return 2\n",
    "    if 3 < x <= 4:\n",
    "        return 5-x\n",
    "    return x-3\n",
    "\n",
    "def gradf(x):\n",
    "    if x <= 1:\n",
    "        return 0\n",
    "    if 1 < x <= 2:\n",
    "        return -1\n",
    "    if 2 < x <= 3:\n",
    "        return 0\n",
    "    if 3 < x <= 4:\n",
    "        return -1\n",
    "    return 1"
   ]
  },
  {
   "cell_type": "code",
   "execution_count": 15,
   "id": "f6986034-f667-46d9-821d-1764449d6c3c",
   "metadata": {
    "tags": []
   },
   "outputs": [
    {
     "name": "stdout",
     "output_type": "stream",
     "text": [
      "2.000000000000001 91\n"
     ]
    }
   ],
   "source": [
    "# Gradient Descent\n",
    "\n",
    "def GD(p = 1.1, tol = 10e-5, max_iter = 1000, alpha = 0.01):\n",
    "    c = 0\n",
    "    for i in range(max_iter):\n",
    "        c += 1\n",
    "        old_p = p\n",
    "        p = p - alpha*gradf(p)\n",
    "        error = abs(old_p - p)\n",
    "        if error < tol:\n",
    "            break\n",
    "    return p, c\n",
    "\n",
    "x, c = GD(p = 1.1)\n",
    "print(x, c)"
   ]
  },
  {
   "cell_type": "code",
   "execution_count": 16,
   "id": "14588032-95be-4478-bc25-9c09731538e5",
   "metadata": {
    "tags": []
   },
   "outputs": [
    {
     "name": "stdout",
     "output_type": "stream",
     "text": [
      "2.1881282212384168 199\n"
     ]
    }
   ],
   "source": [
    "# Gradient Descent with Momentum\n",
    "\n",
    "def GDM(p = 1.1, tol = 10e-5, max_iter = 1000, alpha = 0.01, beta = 0.95):\n",
    "    c = 0\n",
    "    v = 0\n",
    "    for i in range(max_iter):\n",
    "        c += 1\n",
    "        old_p = p\n",
    "        v = (beta*v) + ((1-beta) * gradf(p))\n",
    "        p = p - alpha * v\n",
    "        error = abs(old_p - p)\n",
    "        if error < tol:\n",
    "            break\n",
    "    return p, c\n",
    "\n",
    "x2,c2 = GDM(p = 1.1)\n",
    "print(x2, c2)"
   ]
  },
  {
   "cell_type": "markdown",
   "id": "f7a331ca-03e9-4d78-9b4f-96ee81780a97",
   "metadata": {},
   "source": [
    "# Problem 2"
   ]
  },
  {
   "cell_type": "code",
   "execution_count": 2,
   "id": "748e870c",
   "metadata": {},
   "outputs": [
    {
     "name": "stdout",
     "output_type": "stream",
     "text": [
      "Epoch 0, Loss: 0.30125443961143006\n",
      "Epoch 1, Loss: 0.22929408595249212\n",
      "Epoch 2, Loss: 0.19066832634694497\n",
      "Epoch 3, Loss: 0.16319641559716994\n",
      "Epoch 4, Loss: 0.14184420320753505\n",
      "Epoch 5, Loss: 0.12475363454216708\n",
      "Epoch 6, Loss: 0.11092413580261987\n",
      "Epoch 7, Loss: 0.09956598739744024\n",
      "Epoch 8, Loss: 0.090075138048957\n",
      "Epoch 9, Loss: 0.08202727395348491\n",
      "Epoch 10, Loss: 0.07511365033804915\n",
      "Epoch 11, Loss: 0.0690977073695017\n",
      "Epoch 12, Loss: 0.06379790598927862\n",
      "Epoch 13, Loss: 0.05907844020627227\n",
      "Epoch 14, Loss: 0.05483916361000704\n",
      "Epoch 15, Loss: 0.05100545287842986\n",
      "Epoch 16, Loss: 0.04752177166972506\n",
      "Epoch 17, Loss: 0.044345520995110244\n",
      "Epoch 18, Loss: 0.04144092920128801\n",
      "Epoch 19, Loss: 0.03877627871327066\n",
      "Epoch 20, Loss: 0.0363224272541642\n",
      "Epoch 21, Loss: 0.03405436057880891\n",
      "Epoch 22, Loss: 0.03195055494367742\n",
      "Epoch 23, Loss: 0.02999295175724719\n",
      "Epoch 24, Loss: 0.02816759946655815\n",
      "Epoch 25, Loss: 0.02646330356752667\n",
      "Epoch 26, Loss: 0.02487135802238785\n",
      "Epoch 27, Loss: 0.023385025835982908\n",
      "Epoch 28, Loss: 0.021998122814386123\n",
      "Epoch 29, Loss: 0.020704492847519074\n",
      "Accuracy: 0.9776\n"
     ]
    }
   ],
   "source": [
    "from tensorflow.keras.datasets import mnist\n",
    "import numpy as np\n",
    "\n",
    "# Load and preprocess the MNIST dataset\n",
    "(X_train, y_train), (X_test, y_test) = mnist.load_data()\n",
    "X_train = X_train.reshape(-1, 784) / 255.0\n",
    "X_test = X_test.reshape(-1, 784) / 255.0\n",
    "\n",
    "# Convert labels to one-hot encoded vectors\n",
    "def one_hot_encode(labels, num_classes):\n",
    "    num_samples = labels.shape[0]\n",
    "    encoded_labels = np.zeros((num_samples, num_classes))\n",
    "    for i in range(num_samples):\n",
    "        encoded_labels[i, labels[i]] = 1\n",
    "    return encoded_labels\n",
    "\n",
    "num_classes = 10\n",
    "y_train_one_hot = one_hot_encode(y_train, num_classes)\n",
    "y_test_one_hot = one_hot_encode(y_test, num_classes)\n",
    "\n",
    "\n",
    "# Create the model\n",
    "input_size = 784\n",
    "num_units = 128\n",
    "model = nn.Sequential()\n",
    "model.add(layers.InputLayer(input_shape=input_size))\n",
    "model.add(layers.Dense(input_size, num_units, activation=activations.Sigmoid, optimizer=optimizers.RMSprop))\n",
    "model.add(layers.Dense(num_units, num_classes, activation=activations.Softmax, optimizer=optimizers.RMSprop))\n",
    "\n",
    "# Train the model\n",
    "epochs = 30\n",
    "learning_rate = 0.001\n",
    "batch_size = 128\n",
    "model.train(X_train.T, y_train_one_hot.T, epochs, learning_rate, batch_size, loss=losses.Cross_Entropy)\n",
    "\n",
    "# Make predictions\n",
    "predictions = model.predict(X_test.T)\n",
    "\n",
    "# Convert predictions to class labels\n",
    "predicted_labels = np.argmax(predictions, axis=0)\n",
    "\n",
    "# Calculate accuracy\n",
    "accuracy = np.mean(predicted_labels == y_test)\n",
    "print(\"Accuracy:\", accuracy)"
   ]
  },
  {
   "cell_type": "code",
   "execution_count": null,
   "id": "37840c7d",
   "metadata": {},
   "outputs": [],
   "source": []
  }
 ],
 "metadata": {
  "kernelspec": {
   "display_name": "Python [conda env:Pic16B]",
   "language": "python",
   "name": "conda-env-Pic16B-py"
  },
  "language_info": {
   "codemirror_mode": {
    "name": "ipython",
    "version": 3
   },
   "file_extension": ".py",
   "mimetype": "text/x-python",
   "name": "python",
   "nbconvert_exporter": "python",
   "pygments_lexer": "ipython3",
   "version": "3.9.18"
  }
 },
 "nbformat": 4,
 "nbformat_minor": 5
}
